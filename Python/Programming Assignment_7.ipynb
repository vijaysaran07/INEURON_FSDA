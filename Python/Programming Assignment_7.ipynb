{
 "cells": [
  {
   "cell_type": "markdown",
   "id": "35297a20",
   "metadata": {},
   "source": [
    "## Programming Basic Assignment 7"
   ]
  },
  {
   "cell_type": "markdown",
   "id": "27349114",
   "metadata": {},
   "source": [
    "### 1. Write a Python Program to find sum of array?"
   ]
  },
  {
   "cell_type": "code",
   "execution_count": 1,
   "id": "9fb6d1e4",
   "metadata": {},
   "outputs": [
    {
     "name": "stdout",
     "output_type": "stream",
     "text": [
      "15\n"
     ]
    }
   ],
   "source": [
    "arr = [1,2,3,4,5]\n",
    "print(sum(arr))"
   ]
  },
  {
   "cell_type": "markdown",
   "id": "171a980d",
   "metadata": {},
   "source": [
    "### 2. Write a Python Program to find largest element in an array?\n"
   ]
  },
  {
   "cell_type": "code",
   "execution_count": 3,
   "id": "8afc1018",
   "metadata": {},
   "outputs": [
    {
     "name": "stdout",
     "output_type": "stream",
     "text": [
      "22\n"
     ]
    }
   ],
   "source": [
    "arr = [15,22,13,6,3]\n",
    "print(max(arr))"
   ]
  },
  {
   "cell_type": "markdown",
   "id": "21613246",
   "metadata": {},
   "source": [
    "### 3. Write a Python Program for array rotation?"
   ]
  },
  {
   "cell_type": "code",
   "execution_count": 6,
   "id": "79278744",
   "metadata": {},
   "outputs": [
    {
     "name": "stdout",
     "output_type": "stream",
     "text": [
      "Array after left rotation is:  [4, 5, 6, 7, 1, 2, 3]\n"
     ]
    }
   ],
   "source": [
    "def rotateArray(a,d):\n",
    "    temp = []\n",
    "    n=len(a)\n",
    "    for i in range(d,n):\n",
    "        temp.append(a[i])\n",
    "    i = 0\n",
    "    for i in range (0,d):\n",
    "        temp.append(a[i])\n",
    "    a=temp.copy()\n",
    "    return a\n",
    " \n",
    "arr = [1, 2, 3, 4, 5, 6, 7]\n",
    "print(\"Array after left rotation is: \", end=' ')\n",
    "print(rotateArray(arr, 3))"
   ]
  },
  {
   "cell_type": "markdown",
   "id": "3e52d939",
   "metadata": {},
   "source": [
    "### 4. Write a Python Program to Split the array and add the first part to the end?"
   ]
  },
  {
   "cell_type": "code",
   "execution_count": 10,
   "id": "2018b39a",
   "metadata": {},
   "outputs": [
    {
     "name": "stdout",
     "output_type": "stream",
     "text": [
      "16 50 36 15 40 15 "
     ]
    }
   ],
   "source": [
    "def SplitArray(arr, n):\n",
    "    for i in range(0, n//2):\n",
    "        x = arr[0]\n",
    "        for j in range(0, n-1):\n",
    "            arr[j] = arr[j + 1]\n",
    "\n",
    "        arr[n-1] = x\n",
    "arr = [15, 40, 15, 16, 50, 36]\n",
    "n = len(arr)\n",
    "position = 2\n",
    "SplitArray(arr, n)\n",
    "for i in range(0, n):\n",
    "    print(arr[i], end = ' ')"
   ]
  },
  {
   "cell_type": "markdown",
   "id": "aa375779",
   "metadata": {},
   "source": [
    "### 5. Write a Python Program to check if given array is Monotonic?"
   ]
  },
  {
   "cell_type": "code",
   "execution_count": 14,
   "id": "f4bb4b7c",
   "metadata": {},
   "outputs": [
    {
     "name": "stdout",
     "output_type": "stream",
     "text": [
      "True\n"
     ]
    }
   ],
   "source": [
    "def isMonotonic(A):\n",
    "    x, y = [], []\n",
    "    x.extend(A)\n",
    "    y.extend(A)\n",
    "    x.sort()\n",
    "    y.sort(reverse=True)\n",
    "    if(x == A or y == A):\n",
    "        return True\n",
    "    return False\n",
    " \n",
    "A = [6, 5, 4, 4]\n",
    "print(isMonotonic(A))"
   ]
  },
  {
   "cell_type": "code",
   "execution_count": null,
   "id": "0716626c",
   "metadata": {},
   "outputs": [],
   "source": []
  }
 ],
 "metadata": {
  "kernelspec": {
   "display_name": "Python 3 (ipykernel)",
   "language": "python",
   "name": "python3"
  },
  "language_info": {
   "codemirror_mode": {
    "name": "ipython",
    "version": 3
   },
   "file_extension": ".py",
   "mimetype": "text/x-python",
   "name": "python",
   "nbconvert_exporter": "python",
   "pygments_lexer": "ipython3",
   "version": "3.9.13"
  }
 },
 "nbformat": 4,
 "nbformat_minor": 5
}
